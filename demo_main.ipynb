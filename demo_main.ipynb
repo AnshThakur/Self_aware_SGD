{
 "cells": [
  {
   "cell_type": "markdown",
   "metadata": {},
   "source": [
    "## Demo\n",
    "Demo notebook for the project."
   ]
  },
  {
   "cell_type": "code",
   "execution_count": 1,
   "metadata": {},
   "outputs": [
    {
     "data": {
      "text/plain": [
       "<torch._C.Generator at 0x7ff8e5fdc0d0>"
      ]
     },
     "execution_count": 1,
     "metadata": {},
     "output_type": "execute_result"
    }
   ],
   "source": [
    "# Default imports\n",
    "import os\n",
    "import random\n",
    "\n",
    "# External lib imports\n",
    "import torch\n",
    "import pandas as pd\n",
    "import tensorflow as tf\n",
    "from torch.utils.data import DataLoader\n",
    "from sklearn.metrics import roc_auc_score\n",
    "\n",
    "# Local imports\n",
    "from Model import get_predictions, get_names_of_predefined_feature_sets, PatientDeteriorationDataset, Respiratory_Deteroration\n",
    "from proposed_algo import self_aware_SGD\n",
    "\n",
    "os.environ['TF_CPP_MIN_LOG_LEVEL'] = '3' \n",
    "SEED = 10\n",
    "random.seed(SEED)\n",
    "torch.manual_seed(SEED)"
   ]
  },
  {
   "cell_type": "markdown",
   "metadata": {},
   "source": [
    "Load initial Respiratory Deterioration model"
   ]
  },
  {
   "cell_type": "code",
   "execution_count": 2,
   "metadata": {},
   "outputs": [],
   "source": [
    "model = Respiratory_Deteroration()\n",
    "model.build((None,77))\n",
    "model.compile(optimizer='adam', loss='binary_crossentropy', metrics=['AUC'])\n",
    "W = model.get_weights()\n",
    "model.load_weights('./2016.h5') # load initial model"
   ]
  },
  {
   "cell_type": "markdown",
   "metadata": {},
   "source": [
    "Evaluation on initial test data"
   ]
  },
  {
   "cell_type": "code",
   "execution_count": 3,
   "metadata": {},
   "outputs": [
    {
     "name": "stdout",
     "output_type": "stream",
     "text": [
      "0.8814187935419315\n"
     ]
    }
   ],
   "source": [
    "# list of 77 features\n",
    "used_features = get_names_of_predefined_feature_sets()\n",
    "used_features.append('label')\n",
    "\n",
    "# evaluation on initial test data\n",
    "test_data = pd.read_csv('./data/2017_test.csv')\n",
    "test_dataset = PatientDeteriorationDataset(test_data, used_features, 'label')\n",
    "test_loader = DataLoader(test_dataset, batch_size=2048, shuffle=False)\n",
    "P, L = get_predictions(model, test_loader)\n",
    "auc = roc_auc_score(L, P)\n",
    "print(auc)"
   ]
  },
  {
   "cell_type": "markdown",
   "metadata": {},
   "source": [
    "Load incremental data"
   ]
  },
  {
   "cell_type": "code",
   "execution_count": 4,
   "metadata": {},
   "outputs": [],
   "source": [
    "MLP_BATCH_SIZE = 2048\n",
    "\n",
    "train_data = pd.read_csv('./data/2017_train.csv')\n",
    "val_data = pd.read_csv('./data/2017_val.csv')\n",
    "\n",
    "train_data = PatientDeteriorationDataset(train_data, used_features, 'label')\n",
    "val_data = PatientDeteriorationDataset(val_data, used_features, 'label')\n",
    "    \n",
    "train_loader = DataLoader(train_data, batch_size=MLP_BATCH_SIZE, shuffle=True)\n",
    "val_loader = DataLoader(val_data, batch_size=MLP_BATCH_SIZE, shuffle=False)"
   ]
  },
  {
   "cell_type": "code",
   "execution_count": 5,
   "metadata": {},
   "outputs": [],
   "source": [
    "def loss_fn(pred_y, y):\n",
    "    return tf.keras.backend.mean(tf.keras.losses.binary_crossentropy(y, pred_y))"
   ]
  },
  {
   "cell_type": "code",
   "execution_count": null,
   "metadata": {},
   "outputs": [
    {
     "name": "stderr",
     "output_type": "stream",
     "text": [
      "316it [01:33,  3.56it/s]"
     ]
    }
   ],
   "source": [
    "name = '2017_inc'\n",
    "opt = tf.keras.optimizers.SGD(learning_rate=0.001, momentum=0.9, nesterov=True)\n",
    "model = self_aware_SGD(model, W, train_loader, val_loader, loss_fn, opt, name, epochs=50)"
   ]
  }
 ],
 "metadata": {
  "kernelspec": {
   "display_name": "Python 3",
   "language": "python",
   "name": "python3"
  },
  "language_info": {
   "codemirror_mode": {
    "name": "ipython",
    "version": 3
   },
   "file_extension": ".py",
   "mimetype": "text/x-python",
   "name": "python",
   "nbconvert_exporter": "python",
   "pygments_lexer": "ipython3",
   "version": "3.8.10"
  }
 },
 "nbformat": 4,
 "nbformat_minor": 2
}
